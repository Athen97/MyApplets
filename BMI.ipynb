{
 "cells": [
  {
   "cell_type": "markdown",
   "metadata": {},
   "source": [
    "# <font face='黑体' color=#00FFFF size=10> BMI 值计算的小程序 </font>\n",
    "- <font face='黑体' size=4 >一个简单的Python小程序</font>"
   ]
  },
  {
   "cell_type": "markdown",
   "metadata": {},
   "source": [
    " # <font face='微软雅黑' color=#00FFFF > 一、Python代码编写 </font>\n",
    "   - <font face='黑体' size=4>公式为：BMI=kg ÷ m^2</font>"
   ]
  },
  {
   "cell_type": "code",
   "execution_count": 1,
   "metadata": {},
   "outputs": [
    {
     "name": "stdout",
     "output_type": "stream",
     "text": [
      "Please enter your weight： 80\n",
      "Please enter the height：1.7\n",
      "Your BMI is：27.68166089965398\n",
      "Your body is too fat\n"
     ]
    }
   ],
   "source": [
    "kg = eval(input('请输入您的体重： '))        #输入一个体重，kg为单位\n",
    "m = eval(input('请输入您的身高：'))            #输入一个身高，M为单位\n",
    "BMI=kg/(m**2)                                #定义BMI计算公式\n",
    "print('您的BMI值为：'+str(BMI))           #输出BMI值\n",
    "if BMI<=18.4:                                #判断身体状况\n",
    "    print('您的身体偏瘦')\n",
    "elif BMI<=23.9 and BMI>=18.5:                #elif 多重条件时\n",
    "    print('您的身体正常')\n",
    "elif BMI>=24.0 and BMI<=27.9:\n",
    "    print('您的身体偏胖')\n",
    "elif BMI>=28.0:\n",
    "    print('您的身体过于肥胖，请注意健康!')\n",
    "    \n",
    "input(\"Press <enter>\")                      #使程序运行结束后按enter才会关闭\n"
   ]
  },
  {
   "cell_type": "markdown",
   "metadata": {},
   "source": [
    "# <font face='微软雅黑' color=#00FFFF > 二、编译为EXE文件 </font>\n",
    "   - <font face='黑体' size=4>安装pywin32</font>"
   ]
  },
  {
   "cell_type": "markdown",
   "metadata": {},
   "source": [
    "进入https://sourceforge.net/projects/pywin32/files/pywin32/Build%20221/ 下载对应的pywin32文件，安装对应自己电脑系统以及Python版本的EXE"
   ]
  },
  {
   "cell_type": "markdown",
   "metadata": {},
   "source": [
    "<img src = \"../Myphoto/part1.png\"></img>"
   ]
  },
  {
   "cell_type": "markdown",
   "metadata": {},
   "source": [
    "- <font face='黑体' size=4>安装pyinstaller</font>"
   ]
  },
  {
   "cell_type": "markdown",
   "metadata": {},
   "source": [
    "打开CMD进入Windows命令提示符，Python安装目录下的scripts目录下\n",
    "输入\"pip install pyinstaller\"命令，直到安装完成"
   ]
  },
  {
   "cell_type": "markdown",
   "metadata": {},
   "source": [
    "<img src='../Myphoto/part2.png'></img>"
   ]
  },
  {
   "cell_type": "markdown",
   "metadata": {},
   "source": [
    "安装完成\n",
    "<img src='../Myphoto/part3.png'></img>"
   ]
  },
  {
   "cell_type": "markdown",
   "metadata": {},
   "source": [
    "- <font face='黑体' size=4>生成EXE文件</font>"
   ]
  },
  {
   "cell_type": "markdown",
   "metadata": {},
   "source": [
    "将刚才编写好的Python文件copy到txt文档中，并将txt文档更名为BMI.py"
   ]
  },
  {
   "cell_type": "markdown",
   "metadata": {},
   "source": [
    "<img src='../Myphoto/part4.png'></img>"
   ]
  },
  {
   "cell_type": "markdown",
   "metadata": {},
   "source": [
    "打开CMD 转到Python/scripts目录下\n",
    "输入pyinstaller -F E:\\Mydemo\\BMI.py"
   ]
  },
  {
   "cell_type": "markdown",
   "metadata": {},
   "source": [
    "<img src='../Myphoto/part5.png'></img>"
   ]
  },
  {
   "cell_type": "markdown",
   "metadata": {},
   "source": [
    "- <font face='黑体' size=4>运行尝试</font>"
   ]
  },
  {
   "cell_type": "markdown",
   "metadata": {},
   "source": [
    "<img src='../Myphoto/part6.png'></img>"
   ]
  },
  {
   "cell_type": "markdown",
   "metadata": {},
   "source": [
    "# 放入图形化界面（暂时。。。。。停工！）"
   ]
  },
  {
   "cell_type": "code",
   "execution_count": null,
   "metadata": {},
   "outputs": [],
   "source": []
  }
 ],
 "metadata": {
  "kernelspec": {
   "display_name": "Python 3",
   "language": "python",
   "name": "python3"
  },
  "language_info": {
   "codemirror_mode": {
    "name": "ipython",
    "version": 3
   },
   "file_extension": ".py",
   "mimetype": "text/x-python",
   "name": "python",
   "nbconvert_exporter": "python",
   "pygments_lexer": "ipython3",
   "version": "3.6.4"
  }
 },
 "nbformat": 4,
 "nbformat_minor": 2
}
